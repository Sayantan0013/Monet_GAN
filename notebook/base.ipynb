{
  "nbformat": 4,
  "nbformat_minor": 0,
  "metadata": {
    "colab": {
      "name": "base.ipynb",
      "provenance": [],
      "collapsed_sections": []
    },
    "kernelspec": {
      "name": "python3",
      "display_name": "Python 3"
    },
    "language_info": {
      "name": "python"
    },
    "accelerator": "GPU"
  },
  "cells": [
    {
      "cell_type": "code",
      "metadata": {
        "id": "TcxBhI-LSuB6"
      },
      "source": [
        "import torch\n",
        "import torchvision\n",
        "import torch.nn as nn\n",
        "import matplotlib.pyplot as plt\n",
        "import torch.nn.functional as F\n",
        "import torchvision.transforms as transforms\n",
        "import numpy as np\n",
        "from torch.utils.data.dataloader import DataLoader"
      ],
      "execution_count": 1,
      "outputs": []
    },
    {
      "cell_type": "code",
      "metadata": {
        "id": "MoAAHMYgVUIA"
      },
      "source": [
        "!unzip /content/drive/MyDrive/Projects/Moret_colouring/data/gan-getting-started.zip"
      ],
      "execution_count": null,
      "outputs": []
    },
    {
      "cell_type": "code",
      "metadata": {
        "id": "Z95TqgkwUMKi"
      },
      "source": [
        "monet_path = \"/content/monet_jpg/*jpg\"\n",
        "photo_path = \"/content/photo_jpg/*jpg\"\n",
        "from skimage.io import imread_collection\n",
        "monet = imread_collection(monet_path)\n",
        "photo = imread_collection(photo_path)"
      ],
      "execution_count": 132,
      "outputs": []
    },
    {
      "cell_type": "markdown",
      "metadata": {
        "id": "YfvN_JOYatkq"
      },
      "source": [
        "For Ease of Selecting data randomly from the collection we are using `set()` object in python. **Data Augmentation to be added in this place**"
      ]
    },
    {
      "cell_type": "code",
      "metadata": {
        "id": "ylTkLPNrWBlr"
      },
      "source": [
        "monet_set = set()             # two data holding sets\n",
        "photo_set = set()\n",
        "for img in monet:\n",
        "  image = torch.Tensor(img).cuda(0)\n",
        "  image = image.permute(2,0,1)\n",
        "  monet_set.update([image])   # as the time of update set iterates we use []"
      ],
      "execution_count": 133,
      "outputs": []
    },
    {
      "cell_type": "code",
      "metadata": {
        "id": "A7ldZylPnxj9"
      },
      "source": [
        "for img in photo:\n",
        "  image = torch.Tensor(img).cuda(0)\n",
        "  image = image.permute(2,0,1)\n",
        "  photo_set.update([image])"
      ],
      "execution_count": 134,
      "outputs": []
    },
    {
      "cell_type": "markdown",
      "metadata": {
        "id": "e30GbDebbI5a"
      },
      "source": [
        "####Get Item\n",
        "This function take a input set and returns desired size of tensor data  \n",
        "Take a sample of size as `batch_size` and form a vector from those images"
      ]
    },
    {
      "cell_type": "code",
      "metadata": {
        "id": "Yjw_Hok5WER4"
      },
      "source": [
        "from random import sample\n",
        "def get_item(data : set,batch_size = 50) -> torch.TensorType:\n",
        "  batch = torch.zeros((batch_size,3,256,256)).cuda(0)\n",
        "  tensor_list = sample(data,k=batch_size)\n",
        "  for i,im in enumerate(tensor_list):\n",
        "    batch[i]= im.clone().detach()\n",
        "  return batch"
      ],
      "execution_count": 150,
      "outputs": []
    },
    {
      "cell_type": "code",
      "metadata": {
        "id": "Ytd42D_jqxDh"
      },
      "source": [
        ""
      ],
      "execution_count": null,
      "outputs": []
    }
  ]
}