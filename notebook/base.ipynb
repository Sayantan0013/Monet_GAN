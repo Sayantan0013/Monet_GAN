{
  "nbformat": 4,
  "nbformat_minor": 0,
  "metadata": {
    "colab": {
      "name": "base.ipynb",
      "provenance": [],
      "collapsed_sections": []
    },
    "kernelspec": {
      "name": "python3",
      "display_name": "Python 3"
    },
    "language_info": {
      "name": "python"
    },
    "accelerator": "GPU"
  },
  "cells": [
    {
      "cell_type": "code",
      "metadata": {
        "id": "TcxBhI-LSuB6"
      },
      "source": [
        "import torch\n",
        "import torchvision\n",
        "import torch.nn as nn\n",
        "import matplotlib.pyplot as plt\n",
        "import torch.nn.functional as F\n",
        "import torchvision.transforms as transforms\n",
        "import numpy as np\n",
        "from torch.utils.data.dataloader import DataLoader"
      ],
      "execution_count": 151,
      "outputs": []
    },
    {
      "cell_type": "code",
      "metadata": {
        "id": "MoAAHMYgVUIA"
      },
      "source": [
        "!unzip /content/drive/MyDrive/Projects/Moret_colouring/data/gan-getting-started.zip"
      ],
      "execution_count": null,
      "outputs": []
    },
    {
      "cell_type": "code",
      "metadata": {
        "id": "Z95TqgkwUMKi"
      },
      "source": [
        "monet_path = \"/content/monet_jpg/*jpg\"\n",
        "photo_path = \"/content/photo_jpg/*jpg\"\n",
        "from skimage.io import imread_collection\n",
        "monet = imread_collection(monet_path)\n",
        "photo = imread_collection(photo_path)"
      ],
      "execution_count": 132,
      "outputs": []
    },
    {
      "cell_type": "markdown",
      "metadata": {
        "id": "YfvN_JOYatkq"
      },
      "source": [
        "For Ease of Selecting data randomly from the collection we are using `set()` object in python. **Data Augmentation to be added in this place**"
      ]
    },
    {
      "cell_type": "code",
      "metadata": {
        "id": "ylTkLPNrWBlr"
      },
      "source": [
        "monet_set = set()             # two data holding sets\n",
        "photo_set = set()\n",
        "for img in monet:\n",
        "  image = torch.Tensor(img).cuda(0)\n",
        "  image = image.permute(2,0,1)/255\n",
        "  monet_set.update([image])   # as the time of update set iterates we use []"
      ],
      "execution_count": 157,
      "outputs": []
    },
    {
      "cell_type": "code",
      "metadata": {
        "id": "A7ldZylPnxj9"
      },
      "source": [
        "for img in photo:\n",
        "  image = torch.Tensor(img).cuda(0)\n",
        "  image = image.permute(2,0,1)/255\n",
        "  photo_set.update([image])"
      ],
      "execution_count": 158,
      "outputs": []
    },
    {
      "cell_type": "markdown",
      "metadata": {
        "id": "e30GbDebbI5a"
      },
      "source": [
        "####Get Item\n",
        "This function take a input set and returns desired size of tensor data  \n",
        "Take a sample of size as `batch_size` and form a vector from those images"
      ]
    },
    {
      "cell_type": "code",
      "metadata": {
        "id": "Yjw_Hok5WER4"
      },
      "source": [
        "from random import sample\n",
        "def get_item(data : set,batch_size = 50) -> torch.TensorType:\n",
        "  batch = torch.zeros((batch_size,3,256,256)).cuda(0)\n",
        "  tensor_list = sample(data,k=batch_size)\n",
        "  for i,im in enumerate(tensor_list):\n",
        "    batch[i]= im.clone().detach()\n",
        "  return batch"
      ],
      "execution_count": 154,
      "outputs": []
    },
    {
      "cell_type": "code",
      "metadata": {
        "id": "QEKnU8jW5OED"
      },
      "source": [
        "batch = get_item(monet_set)\n",
        "print(batch[0])"
      ],
      "execution_count": null,
      "outputs": []
    },
    {
      "cell_type": "markdown",
      "metadata": {
        "id": "fPvdRAc92Rr_"
      },
      "source": [
        "## Generator\n"
      ]
    },
    {
      "cell_type": "code",
      "metadata": {
        "id": "Ytd42D_jqxDh"
      },
      "source": [
        "class Generator(nn.Module):\n",
        "  def __init__(self):\n",
        "      super(Generator,self).__init__()\n",
        "      self.conv1 = nn.Sequential(nn.Conv2d(3,8,kernel_size=3,padding=1,stride=2),\n",
        "                                   nn.BatchNorm2d(8),\n",
        "        nn.LeakyReLU())\n",
        "      self.conv2 = nn.Sequential(nn.Conv2d(8,16,kernel_size=5,padding=2,stride=2),\n",
        "                                  nn.BatchNorm2d(16),\n",
        "      nn.LeakyReLU())\n",
        "      self.conv3 = nn.Sequential(nn.Conv2d(16,32,kernel_size=3,padding=1,stride=2),\n",
        "                                  nn.BatchNorm2d(32),\n",
        "      nn.LeakyReLU())\n",
        "      self.bottleneck = nn.Sequential(nn.Conv2d(32,32,kernel_size=5,padding=2,stride=2),\n",
        "      nn.LeakyReLU())\n",
        "      # BottleNeck\n",
        "      self.deconv4 = nn.Sequential(nn.ConvTranspose2d(34,32,kernel_size=4,stride=2,padding=1),\n",
        "      nn.ReLU())\n",
        "      self.deconv3 = nn.Sequential(nn.ConvTranspose2d(32,16,kernel_size=4,stride=2,padding=1),\n",
        "      nn.ReLU())\n",
        "      self.deconv2 = nn.Sequential(nn.ConvTranspose2d(16,8,kernel_size=4,stride=2,padding=1),\n",
        "      nn.ReLU())\n",
        "      self.deconv1 = nn.Sequential(nn.ConvTranspose2d(8,3,kernel_size=4,stride=2,padding=1),\n",
        "      nn.ReLU())\n",
        "  def forward(self,xb : torch.TensorType ,z : torch.TensorType) -> torch.TensorType:\n",
        "      out1 = self.conv1(xb)\n",
        "      #print(\"out1 \",out1.shape)\n",
        "      out2 = self.conv2(out1)\n",
        "      #print(\"out 2\",out2.shape)\n",
        "      out3 = self.conv3(out2)\n",
        "      #print(\"out3 \",out3.shape)\n",
        "      out4 = self.bottleneck(out3)\n",
        "      print(\"after bottleneck\",out4.shape)\n",
        "      out4 = torch.cat((z,out4),1)\n",
        "      out4 = self.deconv4(out4)\n",
        "      #print(\"after deconv4\",out4.shape)\n",
        "      out4 = self.deconv3(out4)\n",
        "      #print(\"after deconv3\",out4.shape)\n",
        "      out4 = self.deconv2(out4)\n",
        "      #print(\"after deconv2\",out4.hape)\n",
        "      out4 = self.deconv1(out4)\n",
        "      #print(\"after deconv1\",out4.shape)\n",
        "      return out4\n"
      ],
      "execution_count": 177,
      "outputs": []
    },
    {
      "cell_type": "markdown",
      "metadata": {
        "id": "JA30asC9-z8Z"
      },
      "source": [
        "##Discriminator"
      ]
    },
    {
      "cell_type": "code",
      "metadata": {
        "id": "hMjDqIP--3PD"
      },
      "source": [
        "class Discriminator(nn.Module):\n",
        "    def __init__(self):\n",
        "      super(Discriminator,self).__init__()\n",
        "      self.conv = nn.Sequential(\n",
        "            nn.Conv2d(3,16,kernel_size=4,stride=4),\n",
        "            nn.ReLU(),\n",
        "            nn.Conv2d(16,64,kernel_size=4,stride=4),\n",
        "            nn.ReLU(),\n",
        "            nn.Conv2d(64,128,kernel_size=4,stride=4),\n",
        "            nn.ReLU(),\n",
        "            nn.Conv2d(128,64,kernel_size=1),\n",
        "            nn.ReLU(),\n",
        "            nn.Conv2d(64,16,kernel_size=1),\n",
        "            nn.ReLU(),\n",
        "            nn.Conv2d(16,4,kernel_size=1),\n",
        "            nn.ReLU(),\n",
        "            nn.Conv2d(4,1,kernel_size=1),\n",
        "            nn.Sigmoid(),\n",
        "            nn.Flatten()\n",
        "            )\n",
        "      self.linear = nn.Linear(16,1)\n",
        "    def forward(self,x : torch.TensorType) -> torch.TensorType:\n",
        "        out = self.conv(x)\n",
        "        out = self.linear(out)\n",
        "        return out"
      ],
      "execution_count": 190,
      "outputs": []
    }
  ]
}